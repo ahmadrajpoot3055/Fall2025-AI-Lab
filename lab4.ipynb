{
 "cells": [
  {
   "cell_type": "code",
   "execution_count": 4,
   "id": "bd541c7f",
   "metadata": {},
   "outputs": [
    {
     "name": "stdout",
     "output_type": "stream",
     "text": [
      "Invalid\n",
      "Without punctuation: Hello  Ahmad\n",
      "Words sorted: are How you\n",
      "ASCII-sorted text:    ADIOaeghnrtuw\n"
     ]
    }
   ],
   "source": [
    "def luhn_check(card_number):\n",
    "    digits = [int(ch) for ch in card_number if ch.isdigit()]\n",
    "    if not digits:\n",
    "        return False\n",
    "    check = digits.pop()\n",
    "    digits.reverse()\n",
    "    total = 0\n",
    "    for i, d in enumerate(digits):\n",
    "        if i % 2 == 0:\n",
    "            d *= 2\n",
    "            if d > 9:\n",
    "                d -= 9\n",
    "        total += d\n",
    "    total += check\n",
    "    return total % 10 == 0\n",
    "\n",
    "\n",
    "def remove_punctuation(s):\n",
    "    punct = \",.!?;:'\\\"-()[]{}@#$%^&*_+/\\\\|<>~`\"\n",
    "    pset = set(punct)  \n",
    "    out = []\n",
    "    for ch in s:\n",
    "        if ch not in pset:\n",
    "            out.append(ch)\n",
    "    return \"\".join(out)\n",
    "\n",
    "\n",
    "def ascii_sort(text, reverse=False):\n",
    "\n",
    "    arr = list(text)\n",
    "    for i in range(1, len(arr)):\n",
    "        key = arr[i]\n",
    "        j = i - 1\n",
    "        if not reverse:\n",
    "            while j >= 0 and ord(arr[j]) > ord(key):\n",
    "                arr[j + 1] = arr[j]\n",
    "                j -= 1\n",
    "        else:\n",
    "            while j >= 0 and ord(arr[j]) < ord(key):\n",
    "                arr[j + 1] = arr[j]\n",
    "                j -= 1\n",
    "        arr[j + 1] = key\n",
    "    return \"\".join(arr)\n",
    "\n",
    "\n",
    "def sort_words_case_insensitive(words, reverse=False):\n",
    "\n",
    "    for i in range(1, len(words)):\n",
    "        key = words[i]\n",
    "        j = i - 1\n",
    "        if not reverse:\n",
    "            while j >= 0 and words[j].lower() > key.lower():\n",
    "                words[j + 1] = words[j]\n",
    "                j -= 1\n",
    "        else:\n",
    "            while j >= 0 and words[j].lower() < key.lower():\n",
    "                words[j + 1] = words[j]\n",
    "                j -= 1\n",
    "        words[j + 1] = key\n",
    "    return words\n",
    "\n",
    "\n",
    "\n",
    "n = input(\"Enter card number: \").strip()\n",
    "print(\"Valid\" if luhn_check(n) else \"Invalid\")\n",
    "\n",
    "s = input(\"Enter sentence with punctuation: \")\n",
    "print(\"Without punctuation:\", remove_punctuation(s))\n",
    "\n",
    "line = input(\"Enter words to sort: \")\n",
    "words = line.split()\n",
    "sort_words_case_insensitive(words) \n",
    "print(\"Words sorted:\", \" \".join(words))\n",
    "\n",
    "txt = input(\"Enter text for ASCII sorting: \")\n",
    "print(\"ASCII-sorted text:\", ascii_sort(txt))"
   ]
  },
  {
   "cell_type": "code",
   "execution_count": null,
   "metadata": {},
   "outputs": [],
   "source": []
  },
  {
   "cell_type": "code",
   "execution_count": null,
   "id": "feffaa88",
   "metadata": {},
   "outputs": [],
   "source": []
  }
 ],
 "metadata": {
  "kernelspec": {
   "display_name": "Python 3",
   "language": "python",
   "name": "python3"
  },
  "language_info": {
   "codemirror_mode": {
    "name": "ipython",
    "version": 3
   },
   "file_extension": ".py",
   "mimetype": "text/x-python",
   "name": "python",
   "nbconvert_exporter": "python",
   "pygments_lexer": "ipython3",
   "version": "3.13.0"
  }
 },
 "nbformat": 4,
 "nbformat_minor": 5
}
