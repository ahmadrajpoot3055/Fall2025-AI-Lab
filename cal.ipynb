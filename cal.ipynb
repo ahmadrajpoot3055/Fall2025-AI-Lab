{
 "cells": [
  {
   "cell_type": "code",
   "execution_count": 1,
   "metadata": {},
   "outputs": [
    {
     "name": "stdout",
     "output_type": "stream",
     "text": [
      "app is on\n",
      "\n",
      "1.add\n",
      "2.show\n",
      "3.delete\n",
      "4.exit\n",
      "\n",
      "1.add\n",
      "2.show\n",
      "3.delete\n",
      "4.exit\n",
      "1 say hello\n",
      "\n",
      "1.add\n",
      "2.show\n",
      "3.delete\n",
      "4.exit\n",
      "bye\n"
     ]
    }
   ],
   "source": [
    "class my_tasks:\n",
    "    def __init__(self):\n",
    "        self.tasks_list = []\n",
    "\n",
    "    def adding_a_new_task(self, my_task):\n",
    "        self.tasks_list.append(my_task)\n",
    "\n",
    "    def show_all_my_tasks(self):\n",
    "        for i in range(len(self.tasks_list)):\n",
    "            print(f\"{i+1} {self.tasks_list[i]}\")\n",
    "\n",
    "    def delete_a_task_by_number(self, number_to_delete):\n",
    "        if number_to_delete <= len(self.tasks_list):\n",
    "            self.tasks_list.pop(number_to_delete - 1)\n",
    "            print(\"removed\")\n",
    "        else:\n",
    "            print(\"no task there\")\n",
    "\n",
    "\n",
    "def main_menu():\n",
    "    my_tasks_app = my_tasks()\n",
    "    print(\"app is on\")\n",
    "    while True:\n",
    "        print(\"\\n1.add\")\n",
    "        print(\"2.show\")\n",
    "        print(\"3.delete\")\n",
    "        print(\"4.exit\")\n",
    "\n",
    "        user_choice_is = input(\"your choice: \")\n",
    "\n",
    "        if user_choice_is == \"1\":\n",
    "            user_task = input(\"task: \")\n",
    "            my_tasks_app.adding_a_new_task(user_task)\n",
    "            \n",
    "        elif user_choice_is == \"2\":\n",
    "            my_tasks_app.show_all_my_tasks()\n",
    "            \n",
    "        elif user_choice_is == \"3\":\n",
    "            try:\n",
    "                task_number_to_remove = int(input(\"which task: \"))\n",
    "                my_tasks_app.delete_a_task_by_number(task_number_to_remove)\n",
    "            except ValueError:\n",
    "                print(\"not a number\")\n",
    "        \n",
    "        elif user_choice_is == \"4\":\n",
    "            print(\"bye\")\n",
    "            break\n",
    "        \n",
    "        else:\n",
    "            print(\"wrong choice\")\n",
    "\n",
    "main_menu()"
   ]
  },
  {
   "cell_type": "code",
   "execution_count": null,
   "metadata": {},
   "outputs": [],
   "source": []
  },
  {
   "cell_type": "code",
   "execution_count": null,
   "metadata": {},
   "outputs": [],
   "source": []
  },
  {
   "cell_type": "code",
   "execution_count": null,
   "metadata": {},
   "outputs": [],
   "source": []
  },
  {
   "cell_type": "code",
   "execution_count": null,
   "metadata": {},
   "outputs": [],
   "source": []
  }
 ],
 "metadata": {
  "kernelspec": {
   "display_name": "base",
   "language": "python",
   "name": "python3"
  },
  "language_info": {
   "codemirror_mode": {
    "name": "ipython",
    "version": 3
   },
   "file_extension": ".py",
   "mimetype": "text/x-python",
   "name": "python",
   "nbconvert_exporter": "python",
   "pygments_lexer": "ipython3",
   "version": "3.12.7"
  }
 },
 "nbformat": 4,
 "nbformat_minor": 2
}
